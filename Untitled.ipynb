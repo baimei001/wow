{
 "cells": [
  {
   "cell_type": "code",
   "execution_count": null,
   "metadata": {},
   "outputs": [],
   "source": [
    "celsius=eval(input('Enter a degree in Celsius:'))\n",
    "fahrenheit = round((9/5)*celsius +32,1)\n",
    "print(fahrenheit)"
   ]
  },
  {
   "cell_type": "code",
   "execution_count": null,
   "metadata": {},
   "outputs": [],
   "source": [
    "radius=eval(input('Enter the radius:'))\n",
    "length=eval(input('Enter the  length:'))\n",
    "x=3.14159\n",
    "area = round(radius * radius * x,4)\n",
    "volume = round(area * length,1)\n",
    "print(area)\n"
   ]
  },
  {
   "cell_type": "code",
   "execution_count": null,
   "metadata": {},
   "outputs": [],
   "source": [
    "feet=eval(input('Enter a value gor feet:'))\n",
    "meters=round(feet*0.305,4)\n",
    "print(meters)"
   ]
  },
  {
   "cell_type": "code",
   "execution_count": null,
   "metadata": {},
   "outputs": [],
   "source": [
    "M=eval(input('Enter the amount of ater in lilpgrams:'))\n",
    "initialTemperature=eval(input('Enter the initial temperature:'))\n",
    "finalTemperature=eval(input('Enter the final temperature:'))\n",
    "Q =round(M * (finalTemperature - initialTemperature)* 4184,1)\n",
    "print(Q)"
   ]
  },
  {
   "cell_type": "code",
   "execution_count": null,
   "metadata": {},
   "outputs": [],
   "source": [
    "balence=eval(input('Enter balence:'))\n",
    "instance=eval(input('Enter instance:'))\n",
    "insterest=round(balence*(instance/1200),5)\n",
    "print(insterest)"
   ]
  },
  {
   "cell_type": "code",
   "execution_count": null,
   "metadata": {},
   "outputs": [],
   "source": [
    "v0=eval(input('Enter v0:'))\n",
    "v1=eval(input('Enter v1:'))\n",
    "t=eval(input('Enter t:'))\n",
    "a = round((v1-v0)/t,4)\n",
    "print(a)"
   ]
  },
  {
   "cell_type": "code",
   "execution_count": 3,
   "metadata": {},
   "outputs": [
    {
     "name": "stdout",
     "output_type": "stream",
     "text": [
      "Enter a number:43\n",
      "7\n"
     ]
    }
   ],
   "source": [
    "number=eval(input('Enter a number:'))\n",
    "a = round(number%10 + number//10,0)\n",
    "print(a)"
   ]
  }
 ],
 "metadata": {
  "kernelspec": {
   "display_name": "Python 3",
   "language": "python",
   "name": "python3"
  },
  "language_info": {
   "codemirror_mode": {
    "name": "ipython",
    "version": 3
   },
   "file_extension": ".py",
   "mimetype": "text/x-python",
   "name": "python",
   "nbconvert_exporter": "python",
   "pygments_lexer": "ipython3",
   "version": "3.6.4"
  }
 },
 "nbformat": 4,
 "nbformat_minor": 2
}
